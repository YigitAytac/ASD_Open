{
 "cells": [
  {
   "cell_type": "code",
   "execution_count": 1,
   "metadata": {},
   "outputs": [],
   "source": [
    "import specdal\n",
    "from matplotlib import pyplot as plt\n",
    "import pandas as pd\n",
    "import numpy as np\n",
    "import os\n",
    "from os import listdir\n",
    "from os.path import isfile, join\n",
    "\n",
    "data_path = '/Users/yaytac/Documents/ASD/20181108'\n",
    "save_path = '/Users/yaytac/Documents/ASD/20181108_test/'\n",
    "correction_path = '/Users/yaytac/Documents/ASD/calibration_multiply.csv'\n",
    "\n",
    "calibrated=pd.read_csv(correction_path) \n",
    "panel_extracted=pd.DataFrame()\n",
    "for f in sorted(os.listdir(data_path))[:]:\n",
    "    if not f.startswith('11'):\n",
    "        data = specdal.read(os.path.join(data_path, f))[0].reset_index()\n",
    "        data_meta=specdal.read(os.path.join(data_path, f))[1]\n",
    "        data['tgt_radiance']=(1000/data_meta['integration_time'])*data['tgt_radiance']\n",
    "        data['Radiance(W/m2nmsr)']=data['tgt_radiance']*calibrated['Correction(per_sec)']\n",
    "        data.to_csv(save_path+str(f)+'.csv')"
   ]
  }
 ],
 "metadata": {
  "kernelspec": {
   "display_name": "Python 3",
   "language": "python",
   "name": "python3"
  },
  "language_info": {
   "codemirror_mode": {
    "name": "ipython",
    "version": 3
   },
   "file_extension": ".py",
   "mimetype": "text/x-python",
   "name": "python",
   "nbconvert_exporter": "python",
   "pygments_lexer": "ipython3",
   "version": "3.7.2"
  }
 },
 "nbformat": 4,
 "nbformat_minor": 2
}
